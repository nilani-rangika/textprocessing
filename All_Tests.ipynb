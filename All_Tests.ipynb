{
 "cells": [
  {
   "cell_type": "code",
   "execution_count": 2,
   "metadata": {},
   "outputs": [
    {
     "data": {
      "text/plain": [
       "<Figure size 432x288 with 0 Axes>"
      ]
     },
     "metadata": {},
     "output_type": "display_data"
    },
    {
     "data": {
      "image/png": "[encoded data removed]",
      "text/plain": [
       "<Figure size 822.857x288 with 2 Axes>"
      ]
     },
     "metadata": {
      "needs_background": "light"
     },
     "output_type": "display_data"
    }
   ],
   "source": [
    "import numpy as np\n",
    "import pandas as pd\n",
    "import matplotlib as mpl\n",
    "import matplotlib.pyplot as plt\n",
    "import matplotlib.patches as mpatches\n",
    "\n",
    "# Let's make a default data frame with catagories and values.\n",
    "df = pd.DataFrame({ 'catagories': ['ISCRAM', 'AAIA', 'cat3', 'cat4'], \n",
    "                    'values': [5, 10, 15, 6] })\n",
    "# Now, we define a desired height and width.\n",
    "waffle_plot_width = 20\n",
    "waffle_plot_height = 7\n",
    "\n",
    "classes = df['catagories']\n",
    "values = df['values']\n",
    "\n",
    "def waffle_plot(classes, values, height, width, colormap):\n",
    "\n",
    "    # Compute the portion of the total assigned to each class.\n",
    "    class_portion = [float(v)/sum(values) for v in values]\n",
    "\n",
    "    # Compute the number of tiles for each catagories.\n",
    "    total_tiles = width * height\n",
    "    tiles_per_class = [round(p*total_tiles) for p in class_portion]\n",
    "\n",
    "    # Make a dummy matrix for use in plotting.\n",
    "    plot_matrix = np.zeros((height, width))\n",
    "\n",
    "    # Popoulate the dummy matrix with integer values.\n",
    "    class_index = 0\n",
    "    tile_index = 0\n",
    "\n",
    "    # Iterate over each tile.\n",
    "    for col in range(waffle_plot_width):\n",
    "        for row in range(height):\n",
    "            tile_index += 1\n",
    "\n",
    "            # If the number of tiles populated is sufficient for this class...\n",
    "            if tile_index > sum(tiles_per_class[0:class_index]):\n",
    "\n",
    "                # ...increment to the next class.\n",
    "                class_index += 1       \n",
    "\n",
    "            # Set the class value to an integer, which increases with class.\n",
    "            plot_matrix[row, col] = class_index\n",
    "\n",
    "    # Create a new figure.\n",
    "    fig = plt.figure()\n",
    "\n",
    "    # Using matshow solves your \"non-square\" problem. \n",
    "    plt.matshow(plot_matrix, cmap=colormap)\n",
    "    plt.colorbar()\n",
    "\n",
    "    # Get the axis.\n",
    "    ax = plt.gca()\n",
    "\n",
    "    # Minor ticks\n",
    "    ax.set_xticks(np.arange(-.5, (width), 1), minor=True);\n",
    "    ax.set_yticks(np.arange(-.5, (height), 1), minor=True);\n",
    "\n",
    "    # Gridlines based on minor ticks\n",
    "    ax.grid(which='minor', color='w', linestyle='-', linewidth=2)\n",
    "\n",
    "    # Manually constructing a legend solves your \"catagorical\" problem.\n",
    "    legend_handles = []\n",
    "    for i, c in enumerate(classes):\n",
    "        lable_str = c + \" (\" + str(values[i]) + \")\"\n",
    "        color_val = colormap(float(i+1)/len(classes))\n",
    "        legend_handles.append(mpatches.Patch(color=color_val, label=lable_str))\n",
    "\n",
    "    # Add the legend. Still a bit of work to do here, to perfect centering.\n",
    "    plt.legend(handles=legend_handles, loc=1, ncol=len(classes),\n",
    "               bbox_to_anchor=(0., -0.1, 0.95, .10))\n",
    "\n",
    "    plt.xticks([])\n",
    "    plt.yticks([])\n",
    "\n",
    "# Call the plotting function.\n",
    "waffle_plot(classes, values, waffle_plot_height, waffle_plot_width,\n",
    "            plt.cm.coolwarm)"
   ]
  },
  {
   "cell_type": "code",
   "execution_count": null,
   "metadata": {},
   "outputs": [],
   "source": []
  }
 ],
 "metadata": {
  "kernelspec": {
   "display_name": "Python 3",
   "language": "python",
   "name": "python3"
  },
  "language_info": {
   "codemirror_mode": {
    "name": "ipython",
    "version": 3
   },
   "file_extension": ".py",
   "mimetype": "text/x-python",
   "name": "python",
   "nbconvert_exporter": "python",
   "pygments_lexer": "ipython3",
   "version": "3.7.3"
  }
 },
 "nbformat": 4,
 "nbformat_minor": 4
}
