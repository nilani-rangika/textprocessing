{
 "cells": [
  {
   "cell_type": "code",
   "execution_count": 6,
   "metadata": {},
   "outputs": [
    {
     "data": {
      "text/plain": [
       "'Traffic is backed up for about 9km after an incident near Spaghetti Junction.\\n\\nThe incident happened about 12pm at the Southern Motorway link to the Northwestern Motorway, westbound.\\n\\nDrivers were asked to avoid the area and consider using an alternative route.\\n\\nUPDATE 1:25PM\\n\\nThe SH1 link to SH16 westbound has RE-OPENED following a earlier incident. Traffic remains heavy northbound between Penrose and the SH1 Link to SH16 westbound. Consider delaying your journey if possible, or be prepared for delays. ^MF https://t.co/uavA2uoiru — NZTA Akld & Nthlnd (@NZTAAkl) February 12, 2020\\n\\nThe New Zealand Transport Agency said at 1.25pm the road had reopened but traffic remained heavy between Penrose and the State Highway 1 link - a journey of about 9km.\\n\\nAdvertisement\\n\\n\"Consider delaying your journey if possible, or be prepared for delays.\"\\n\\nPolice have cordoned off a section of footpath on Alex Evans Road, above the motorway, in relation to the incident.'"
      ]
     },
     "execution_count": 6,
     "metadata": {},
     "output_type": "execute_result"
    }
   ],
   "source": [
    "from newspaper import Article\n",
    "\n",
    "urlw = 'https://www.nzherald.co.nz/nz/news/article.cfm?c_id=1&objectid=12307959'\n",
    "article = Article(urlw)\n",
    "article.download()\n",
    "article.parse()\n",
    "article.text"
   ]
  },
  {
   "cell_type": "code",
   "execution_count": 7,
   "metadata": {},
   "outputs": [],
   "source": [
    "contraction_mapping = {\"ain't\": \"is not\", \"aren't\": \"are not\",\"can't\": \"cannot\", \"'cause\": \"because\", \"could've\": \"could have\", \"couldn't\": \"could not\",\n",
    "\n",
    "                           \"didn't\": \"did not\", \"doesn't\": \"does not\", \"don't\": \"do not\", \"hadn't\": \"had not\", \"hasn't\": \"has not\", \"haven't\": \"have not\",\n",
    "\n",
    "                           \"he'd\": \"he would\",\"he'll\": \"he will\", \"he's\": \"he is\", \"how'd\": \"how did\", \"how'd'y\": \"how do you\", \"how'll\": \"how will\", \"how's\": \"how is\",\n",
    "\n",
    "                           \"I'd\": \"I would\", \"I'd've\": \"I would have\", \"I'll\": \"I will\", \"I'll've\": \"I will have\",\"I'm\": \"I am\", \"I've\": \"I have\", \"i'd\": \"i would\",\n",
    "\n",
    "                           \"i'd've\": \"i would have\", \"i'll\": \"i will\",  \"i'll've\": \"i will have\",\"i'm\": \"i am\", \"i've\": \"i have\", \"isn't\": \"is not\", \"it'd\": \"it would\",\n",
    "\n",
    "                           \"it'd've\": \"it would have\", \"it'll\": \"it will\", \"it'll've\": \"it will have\",\"it's\": \"it is\", \"let's\": \"let us\", \"ma'am\": \"madam\",\n",
    "\n",
    "                           \"mayn't\": \"may not\", \"might've\": \"might have\",\"mightn't\": \"might not\",\"mightn't've\": \"might not have\", \"must've\": \"must have\",\n",
    "\n",
    "                           \"mustn't\": \"must not\", \"mustn't've\": \"must not have\", \"needn't\": \"need not\", \"needn't've\": \"need not have\",\"o'clock\": \"of the clock\",\n",
    "\n",
    "                           \"oughtn't\": \"ought not\", \"oughtn't've\": \"ought not have\", \"shan't\": \"shall not\", \"sha'n't\": \"shall not\", \"shan't've\": \"shall not have\",\n",
    "\n",
    "                           \"she'd\": \"she would\", \"she'd've\": \"she would have\", \"she'll\": \"she will\", \"she'll've\": \"she will have\", \"she's\": \"she is\",\n",
    "\n",
    "                           \"should've\": \"should have\", \"shouldn't\": \"should not\", \"shouldn't've\": \"should not have\", \"so've\": \"so have\",\"so's\": \"so as\",\n",
    "\n",
    "                           \"this's\": \"this is\",\"that'd\": \"that would\", \"that'd've\": \"that would have\", \"that's\": \"that is\", \"there'd\": \"there would\",\n",
    "\n",
    "                           \"there'd've\": \"there would have\", \"there's\": \"there is\", \"here's\": \"here is\",\"they'd\": \"they would\", \"they'd've\": \"they would have\",\n",
    "\n",
    "                           \"they'll\": \"they will\", \"they'll've\": \"they will have\", \"they're\": \"they are\", \"they've\": \"they have\", \"to've\": \"to have\",\n",
    "\n",
    "                           \"wasn't\": \"was not\", \"we'd\": \"we would\", \"we'd've\": \"we would have\", \"we'll\": \"we will\", \"we'll've\": \"we will have\", \"we're\": \"we are\",\n",
    "\n",
    "                           \"we've\": \"we have\", \"weren't\": \"were not\", \"what'll\": \"what will\", \"what'll've\": \"what will have\", \"what're\": \"what are\",\n",
    "\n",
    "                           \"what's\": \"what is\", \"what've\": \"what have\", \"when's\": \"when is\", \"when've\": \"when have\", \"where'd\": \"where did\", \"where's\": \"where is\",\n",
    "\n",
    "                           \"where've\": \"where have\", \"who'll\": \"who will\", \"who'll've\": \"who will have\", \"who's\": \"who is\", \"who've\": \"who have\",\n",
    "\n",
    "                           \"why's\": \"why is\", \"why've\": \"why have\", \"will've\": \"will have\", \"won't\": \"will not\", \"won't've\": \"will not have\",\n",
    "\n",
    "                           \"would've\": \"would have\", \"wouldn't\": \"would not\", \"wouldn't've\": \"would not have\", \"y'all\": \"you all\",\n",
    "\n",
    "                           \"y'all'd\": \"you all would\",\"y'all'd've\": \"you all would have\",\"y'all're\": \"you all are\",\"y'all've\": \"you all have\",\n",
    "\n",
    "                           \"you'd\": \"you would\", \"you'd've\": \"you would have\", \"you'll\": \"you will\", \"you'll've\": \"you will have\",\n",
    "\n",
    "                           \"you're\": \"you are\", \"you've\": \"you have\"}"
   ]
  },
  {
   "cell_type": "code",
   "execution_count": 8,
   "metadata": {},
   "outputs": [],
   "source": [
    "from nltk.corpus import stopwords \n",
    "from bs4 import BeautifulSoup \n",
    "import re  \n",
    "stop_words = set(stopwords.words('english'))\n",
    "def  text_cleaner(text):\n",
    "    newString = text\n",
    "    newString = newString.replace('/', '')\n",
    "    newString = BeautifulSoup(newString, \"lxml\").text\n",
    "    newString = re.sub('\\\"\"(.+?)\\\"\"', '', newString)#remove double quotes\n",
    "    newString = re.sub(r'\\([^)]*\\)', '', newString)\n",
    "    newString = (re.sub(r'\\b[A-Z]+\\b', '', newString))#remove capital letters\n",
    "    newString = re.sub('\"','', newString)\n",
    "    newString = ' '.join([contraction_mapping[t] if t in contraction_mapping else t for t in newString.split(\" \")])    \n",
    "    newString = re.sub(r\"'s\\b\",\"\",newString)\n",
    "    #newString = re.sub(\"[^a-zA-Z]\", \" \", newString) \n",
    "    tokens = [w for w in newString.split() if not w in stop_words]\n",
    "    long_words=[]\n",
    "    for i in tokens:\n",
    "        if len(i)>=3:                  #removing short word\n",
    "            long_words.append(i)   \n",
    "    return (\" \".join(long_words)).strip()\n",
    "\n",
    "cleaned_text = []\n",
    "cleaned_text.append(text_cleaner(string1))"
   ]
  },
  {
   "cell_type": "code",
   "execution_count": 9,
   "metadata": {},
   "outputs": [
    {
     "data": {
      "text/plain": [
       "['Traffic backed 9km incident near Spaghetti Junction. The incident happened 12pm Southern Motorway link Northwestern Motorway, westbound. Drivers asked avoid area consider using alternative route. 1:25PM The SH1 link SH16 westbound following earlier incident. Traffic remains heavy northbound Penrose SH1 Link SH16 westbound. Consider delaying journey possible, prepared delays. https:t.couavA2uoiru Akld Nthlnd February 12, 2020 The New Zealand Transport Agency said 1.25pm road reopened traffic remained heavy Penrose State Highway link journey 9km. Advertisement Consider delaying journey possible, prepared delays. Police cordoned section footpath Alex Evans Road, motorway, relation incident.']"
      ]
     },
     "execution_count": 9,
     "metadata": {},
     "output_type": "execute_result"
    }
   ],
   "source": [
    "cleaned_text"
   ]
  },
  {
   "cell_type": "code",
   "execution_count": 10,
   "metadata": {},
   "outputs": [
    {
     "name": "stdout",
     "output_type": "stream",
     "text": [
      "9km 15 18 QUANTITY\n",
      "Spaghetti Junction 33 51 GPE\n",
      "12 75 77 CARDINAL\n",
      "Southern Motorway 80 97 LOC\n",
      "Northwestern Motorway 103 124 LOC\n",
      "1:25PM 196 202 DATE\n",
      "Penrose SH1 Link SH16 292 313 PRODUCT\n",
      "Akld 399 403 PERSON\n",
      "February 12, 2020 411 428 DATE\n",
      "The New Zealand Transport Agency 429 461 ORG\n",
      "1.25pm 467 473 CARDINAL\n",
      "Penrose State Highway 511 532 FAC\n",
      "9km 546 549 QUANTITY\n",
      "Alex Evans Road 651 666 PERSON\n"
     ]
    }
   ],
   "source": [
    "import spacy \n",
    "  \n",
    "nlp = spacy.load('en_core_web_sm') \n",
    "  \n",
    "#sentence = \"Footage East Coast Road Friday morning main road Kaiaua western Firth edge Thames.\"\n",
    "sentence = \"Traffic backed 9km incident near Spaghetti Junction. The incident happened 12pm Southern Motorway link Northwestern Motorway, westbound. Drivers asked avoid area consider using alternative route. 1:25PM The SH1 link SH16 westbound following earlier incident. Traffic remains heavy northbound Penrose SH1 Link SH16 westbound. Consider delaying journey possible, prepared delays. https:t.couavA2uoiru Akld Nthlnd February 12, 2020 The New Zealand Transport Agency said 1.25pm road reopened traffic remained heavy Penrose State Highway link journey 9km. Advertisement Consider delaying journey possible, prepared delays. Police cordoned section footpath Alex Evans Road, motorway, relation incident.\"\n",
    "doc = nlp(sentence) \n",
    "  \n",
    "for ent in doc.ents: \n",
    "    print(ent.text, ent.start_char, ent.end_char, ent.label_) \n"
   ]
  },
  {
   "cell_type": "code",
   "execution_count": 11,
   "metadata": {},
   "outputs": [
    {
     "name": "stdout",
     "output_type": "stream",
     "text": [
      "(33.8916207, -84.2595033)\n"
     ]
    }
   ],
   "source": [
    "from geopy.geocoders import Nominatim\n",
    "\n",
    "locator = Nominatim(user_agent='myGeocoder')\n",
    "location = locator.geocode('Spaghetti Junction')\n",
    "print((location.latitude, location.longitude))"
   ]
  },
  {
   "cell_type": "code",
   "execution_count": 12,
   "metadata": {},
   "outputs": [
    {
     "data": {
      "text/html": [
       "<div style=\"width:100%;\"><div style=\"position:relative;width:100%;height:0;padding-bottom:60%;\"><iframe src=\"data:text/html;charset=utf-8;base64,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\" style=\"position:absolute;width:100%;height:100%;left:0;top:0;border:none !important;\" allowfullscreen webkitallowfullscreen mozallowfullscreen></iframe></div></div>"
      ],
      "text/plain": [
       "<folium.folium.Map at 0x7f90812b2b38>"
      ]
     },
     "execution_count": 12,
     "metadata": {},
     "output_type": "execute_result"
    }
   ],
   "source": [
    "import folium\n",
    "import pandas as pd\n",
    "import numpy as np\n",
    "#https://georgetsilva.github.io/posts/mapping-points-with-folium/\n",
    "\n",
    "locationlist = [(33.8916207, -84.2595033)]\n",
    "\n",
    "map = folium.Map(zoom_start=12)\n",
    "for point in range(0, len(locationlist)):\n",
    "    folium.Marker(locationlist[point]).add_to(map)\n",
    "map\n",
    "\n",
    "\n",
    "# mapit = None\n",
    "# latlon = [(-42.9945669, 170.7100413)]\n",
    "# for coord in latlon:\n",
    "#     mapit = folium.Map( location=[ coord[0], coord[1] ] )\n",
    "\n",
    "# #mapit.save('map.html')\n",
    "# mapit"
   ]
  },
  {
   "cell_type": "code",
   "execution_count": 20,
   "metadata": {},
   "outputs": [
    {
     "name": "stderr",
     "output_type": "stream",
     "text": [
      "[nltk_data] Downloading package averaged_perceptron_tagger to\n",
      "[nltk_data]     /home/rangika/nltk_data...\n",
      "[nltk_data]   Package averaged_perceptron_tagger is already up-to-\n",
      "[nltk_data]       date!\n",
      "[nltk_data] Downloading package maxent_ne_chunker to\n",
      "[nltk_data]     /home/rangika/nltk_data...\n",
      "[nltk_data]   Package maxent_ne_chunker is already up-to-date!\n",
      "[nltk_data] Downloading package words to /home/rangika/nltk_data...\n",
      "[nltk_data]   Unzipping corpora/words.zip.\n"
     ]
    },
    {
     "data": {
      "text/plain": [
       "True"
      ]
     },
     "execution_count": 20,
     "metadata": {},
     "output_type": "execute_result"
    }
   ],
   "source": [
    "import nltk\n",
    "nltk.download('averaged_perceptron_tagger')\n",
    "nltk.download('maxent_ne_chunker')\n",
    "nltk.download('words')"
   ]
  },
  {
   "cell_type": "code",
   "execution_count": 37,
   "metadata": {},
   "outputs": [],
   "source": [
    "import geograpy\n",
    "url = 'https://www.nzherald.co.nz/nz/news/article.cfm?c_id=1&objectid=12307959'\n",
    "places = geograpy.get_place_context(url=url)"
   ]
  },
  {
   "cell_type": "code",
   "execution_count": 38,
   "metadata": {},
   "outputs": [
    {
     "data": {
      "text/plain": [
       "{'United States': ['Agency', 'Penrose'], 'New Zealand': ['Penrose']}"
      ]
     },
     "execution_count": 38,
     "metadata": {},
     "output_type": "execute_result"
    }
   ],
   "source": [
    "places.country_cities"
   ]
  },
  {
   "cell_type": "code",
   "execution_count": 39,
   "metadata": {},
   "outputs": [
    {
     "data": {
      "text/plain": [
       "{'SH1': ['SH1',\n",
       "  'Traffic',\n",
       "  'Nthlnd',\n",
       "  'SH1 Link',\n",
       "  'Agency',\n",
       "  'SH16',\n",
       "  'Alex Evans Road',\n",
       "  'New Zealand',\n",
       "  'State',\n",
       "  'Spaghetti Junction',\n",
       "  'Penrose'],\n",
       " 'Traffic': ['SH1',\n",
       "  'Traffic',\n",
       "  'Nthlnd',\n",
       "  'SH1 Link',\n",
       "  'Agency',\n",
       "  'SH16',\n",
       "  'Alex Evans Road',\n",
       "  'New Zealand',\n",
       "  'State',\n",
       "  'Spaghetti Junction',\n",
       "  'Penrose'],\n",
       " 'Nthlnd': ['SH1',\n",
       "  'Traffic',\n",
       "  'Nthlnd',\n",
       "  'SH1 Link',\n",
       "  'Agency',\n",
       "  'SH16',\n",
       "  'Alex Evans Road',\n",
       "  'New Zealand',\n",
       "  'State',\n",
       "  'Spaghetti Junction',\n",
       "  'Penrose'],\n",
       " 'SH1 Link': ['SH1',\n",
       "  'Traffic',\n",
       "  'Nthlnd',\n",
       "  'SH1 Link',\n",
       "  'Agency',\n",
       "  'SH16',\n",
       "  'Alex Evans Road',\n",
       "  'New Zealand',\n",
       "  'State',\n",
       "  'Spaghetti Junction',\n",
       "  'Penrose'],\n",
       " 'Agency': ['SH1',\n",
       "  'Traffic',\n",
       "  'Nthlnd',\n",
       "  'SH1 Link',\n",
       "  'Agency',\n",
       "  'SH16',\n",
       "  'Alex Evans Road',\n",
       "  'New Zealand',\n",
       "  'State',\n",
       "  'Spaghetti Junction',\n",
       "  'Penrose'],\n",
       " 'SH16': ['SH1',\n",
       "  'Traffic',\n",
       "  'Nthlnd',\n",
       "  'SH1 Link',\n",
       "  'Agency',\n",
       "  'SH16',\n",
       "  'Alex Evans Road',\n",
       "  'New Zealand',\n",
       "  'State',\n",
       "  'Spaghetti Junction',\n",
       "  'Penrose'],\n",
       " 'Alex Evans Road': ['SH1',\n",
       "  'Traffic',\n",
       "  'Nthlnd',\n",
       "  'SH1 Link',\n",
       "  'Agency',\n",
       "  'SH16',\n",
       "  'Alex Evans Road',\n",
       "  'New Zealand',\n",
       "  'State',\n",
       "  'Spaghetti Junction',\n",
       "  'Penrose'],\n",
       " 'New Zealand': ['SH1',\n",
       "  'Traffic',\n",
       "  'Nthlnd',\n",
       "  'SH1 Link',\n",
       "  'Agency',\n",
       "  'SH16',\n",
       "  'Alex Evans Road',\n",
       "  'New Zealand',\n",
       "  'State',\n",
       "  'Spaghetti Junction',\n",
       "  'Penrose'],\n",
       " 'Afghanistan': ['SH1',\n",
       "  'Traffic',\n",
       "  'Nthlnd',\n",
       "  'SH1 Link',\n",
       "  'Agency',\n",
       "  'SH16',\n",
       "  'Alex Evans Road',\n",
       "  'New Zealand',\n",
       "  'State',\n",
       "  'Spaghetti Junction',\n",
       "  'Penrose'],\n",
       " 'Spaghetti Junction': ['SH1',\n",
       "  'Traffic',\n",
       "  'Nthlnd',\n",
       "  'SH1 Link',\n",
       "  'Agency',\n",
       "  'SH16',\n",
       "  'Alex Evans Road',\n",
       "  'New Zealand',\n",
       "  'State',\n",
       "  'Spaghetti Junction',\n",
       "  'Penrose'],\n",
       " 'Penrose': ['SH1',\n",
       "  'Traffic',\n",
       "  'Nthlnd',\n",
       "  'SH1 Link',\n",
       "  'Agency',\n",
       "  'SH16',\n",
       "  'Alex Evans Road',\n",
       "  'New Zealand',\n",
       "  'State',\n",
       "  'Spaghetti Junction',\n",
       "  'Penrose']}"
      ]
     },
     "execution_count": 39,
     "metadata": {},
     "output_type": "execute_result"
    }
   ],
   "source": [
    "places.country_regions"
   ]
  },
  {
   "cell_type": "code",
   "execution_count": 40,
   "metadata": {},
   "outputs": [
    {
     "data": {
      "text/plain": [
       "[('Traffic', 22),\n",
       " ('SH16', 22),\n",
       " ('Penrose', 22),\n",
       " ('Spaghetti Junction', 11),\n",
       " ('SH1', 11),\n",
       " ('SH1 Link', 11),\n",
       " ('Nthlnd', 11),\n",
       " ('New Zealand', 11),\n",
       " ('Agency', 11),\n",
       " ('State', 11),\n",
       " ('Alex Evans Road', 11)]"
      ]
     },
     "execution_count": 40,
     "metadata": {},
     "output_type": "execute_result"
    }
   ],
   "source": [
    "places.region_mentions"
   ]
  },
  {
   "cell_type": "code",
   "execution_count": 41,
   "metadata": {},
   "outputs": [
    {
     "data": {
      "text/plain": [
       "[('Penrose', 2), ('Agency', 1)]"
      ]
     },
     "execution_count": 41,
     "metadata": {},
     "output_type": "execute_result"
    }
   ],
   "source": [
    "places.city_mentions"
   ]
  },
  {
   "cell_type": "code",
   "execution_count": 42,
   "metadata": {},
   "outputs": [
    {
     "ename": "SyntaxError",
     "evalue": "invalid syntax (<ipython-input-42-b07859e198ea>, line 1)",
     "output_type": "error",
     "traceback": [
      "\u001b[0;36m  File \u001b[0;32m\"<ipython-input-42-b07859e198ea>\"\u001b[0;36m, line \u001b[0;32m1\u001b[0m\n\u001b[0;31m    Auckland motorway closure: drivers asked to avoid area\u001b[0m\n\u001b[0m                    ^\u001b[0m\n\u001b[0;31mSyntaxError\u001b[0m\u001b[0;31m:\u001b[0m invalid syntax\n"
     ]
    }
   ],
   "source": [
    "Auckland motorway closure: drivers asked to avoid area "
   ]
  },
  {
   "cell_type": "code",
   "execution_count": 43,
   "metadata": {},
   "outputs": [
    {
     "name": "stdout",
     "output_type": "stream",
     "text": [
      "{}\n"
     ]
    }
   ],
   "source": [
    "import geograpy\n",
    "\n",
    "text='I live in Kadawatha'\n",
    "\n",
    "places = geograpy.get_place_context(text=text)\n",
    "\n",
    "print(places.country_cities)"
   ]
  },
  {
   "cell_type": "code",
   "execution_count": 50,
   "metadata": {},
   "outputs": [
    {
     "data": {
      "text/plain": [
       "'Traffic is backed up for about 9km after an incident near Spaghetti Junction.\\n\\nThe incident happened about 12pm at the Southern Motorway link to the Northwestern Motorway, westbound.\\n\\nDrivers were asked to avoid the area and consider using an alternative route.\\n\\nUPDATE 1:25PM\\n\\nThe SH1 link to SH16 westbound has RE-OPENED following a earlier incident. Traffic remains heavy northbound between Penrose and the SH1 Link to SH16 westbound. Consider delaying your journey if possible, or be prepared for delays. ^MF https://t.co/uavA2uoiru — NZTA Akld & Nthlnd (@NZTAAkl) February 12, 2020\\n\\nThe New Zealand Transport Agency said at 1.25pm the road had reopened but traffic remained heavy between Penrose and the State Highway 1 link - a journey of about 9km.\\n\\nAdvertisement\\n\\n\"Consider delaying your journey if possible, or be prepared for delays.\"\\n\\nPolice have cordoned off a section of footpath on Alex Evans Road, above the motorway, in relation to the incident.'"
      ]
     },
     "execution_count": 50,
     "metadata": {},
     "output_type": "execute_result"
    }
   ],
   "source": []
  },
  {
   "cell_type": "code",
   "execution_count": null,
   "metadata": {},
   "outputs": [],
   "source": []
  }
 ],
 "metadata": {
  "kernelspec": {
   "display_name": "Python 3",
   "language": "python",
   "name": "python3"
  },
  "language_info": {
   "codemirror_mode": {
    "name": "ipython",
    "version": 3
   },
   "file_extension": ".py",
   "mimetype": "text/x-python",
   "name": "python",
   "nbconvert_exporter": "python",
   "pygments_lexer": "ipython3",
   "version": "3.7.3"
  }
 },
 "nbformat": 4,
 "nbformat_minor": 2
}
