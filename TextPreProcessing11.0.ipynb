{
 "cells": [
  {
   "cell_type": "code",
   "execution_count": 1,
   "metadata": {},
   "outputs": [
    {
     "data": {
      "text/html": [
       "<div>\n",
       "<style scoped>\n",
       "    .dataframe tbody tr th:only-of-type {\n",
       "        vertical-align: middle;\n",
       "    }\n",
       "\n",
       "    .dataframe tbody tr th {\n",
       "        vertical-align: top;\n",
       "    }\n",
       "\n",
       "    .dataframe thead th {\n",
       "        text-align: right;\n",
       "    }\n",
       "</style>\n",
       "<table border=\"1\" class=\"dataframe\">\n",
       "  <thead>\n",
       "    <tr style=\"text-align: right;\">\n",
       "      <th></th>\n",
       "      <th>Date</th>\n",
       "      <th>Title</th>\n",
       "      <th>Description</th>\n",
       "    </tr>\n",
       "  </thead>\n",
       "  <tbody>\n",
       "    <tr>\n",
       "      <th>0</th>\n",
       "      <td>2018-01-05 01:09:43.848000+00:00</td>\n",
       "      <td>Heavy rain closes roads in Christchurch, cause...</td>\n",
       "      <td>Heavy rain has caused surface flooding and clo...</td>\n",
       "    </tr>\n",
       "    <tr>\n",
       "      <th>1</th>\n",
       "      <td>2018-01-05 07:16:21.132000+00:00</td>\n",
       "      <td>Deadly storm causes travel chaos amid evacuati...</td>\n",
       "      <td>Carnage at the Milford Marina, North Shore whe...</td>\n",
       "    </tr>\n",
       "    <tr>\n",
       "      <th>2</th>\n",
       "      <td>2018-01-05 01:09:39.197000+00:00</td>\n",
       "      <td>Roads under water and fallen trees, as storm w...</td>\n",
       "      <td>Damage to State Highway 25 after Friday's stor...</td>\n",
       "    </tr>\n",
       "    <tr>\n",
       "      <th>3</th>\n",
       "      <td>2018-01-05 00:32:58.889000+00:00</td>\n",
       "      <td>Tree fall in Rotorua kills woman in car</td>\n",
       "      <td>The fire service were at Arawa St in Rotorua o...</td>\n",
       "    </tr>\n",
       "    <tr>\n",
       "      <th>4</th>\n",
       "      <td>2018-01-05 01:26:27.298000+00:00</td>\n",
       "      <td>Thames Coast road severely damaged in wake of ...</td>\n",
       "      <td>Footage of East Coast Road on Friday morning -...</td>\n",
       "    </tr>\n",
       "  </tbody>\n",
       "</table>\n",
       "</div>"
      ],
      "text/plain": [
       "                               Date  \\\n",
       "0  2018-01-05 01:09:43.848000+00:00   \n",
       "1  2018-01-05 07:16:21.132000+00:00   \n",
       "2  2018-01-05 01:09:39.197000+00:00   \n",
       "3  2018-01-05 00:32:58.889000+00:00   \n",
       "4  2018-01-05 01:26:27.298000+00:00   \n",
       "\n",
       "                                               Title  \\\n",
       "0  Heavy rain closes roads in Christchurch, cause...   \n",
       "1  Deadly storm causes travel chaos amid evacuati...   \n",
       "2  Roads under water and fallen trees, as storm w...   \n",
       "3            Tree fall in Rotorua kills woman in car   \n",
       "4  Thames Coast road severely damaged in wake of ...   \n",
       "\n",
       "                                         Description  \n",
       "0  Heavy rain has caused surface flooding and clo...  \n",
       "1  Carnage at the Milford Marina, North Shore whe...  \n",
       "2  Damage to State Highway 25 after Friday's stor...  \n",
       "3  The fire service were at Arawa St in Rotorua o...  \n",
       "4  Footage of East Coast Road on Friday morning -...  "
      ]
     },
     "execution_count": 1,
     "metadata": {},
     "output_type": "execute_result"
    }
   ],
   "source": [
    "#https://medium.com/analytics-vidhya/automated-keyword-extraction-from-articles-using-nlp-bfd864f41b34\n",
    "import pandas as pd\n",
    "import numpy as np\n",
    "\n",
    "df = pd.read_csv('allText3.csv', usecols=['Date', 'Title', 'Description'])\n",
    "df.head()"
   ]
  },
  {
   "cell_type": "code",
   "execution_count": 2,
   "metadata": {},
   "outputs": [
    {
     "data": {
      "text/html": [
       "<div>\n",
       "<style scoped>\n",
       "    .dataframe tbody tr th:only-of-type {\n",
       "        vertical-align: middle;\n",
       "    }\n",
       "\n",
       "    .dataframe tbody tr th {\n",
       "        vertical-align: top;\n",
       "    }\n",
       "\n",
       "    .dataframe thead th {\n",
       "        text-align: right;\n",
       "    }\n",
       "</style>\n",
       "<table border=\"1\" class=\"dataframe\">\n",
       "  <thead>\n",
       "    <tr style=\"text-align: right;\">\n",
       "      <th></th>\n",
       "      <th>Description</th>\n",
       "      <th>word_count</th>\n",
       "    </tr>\n",
       "  </thead>\n",
       "  <tbody>\n",
       "    <tr>\n",
       "      <th>0</th>\n",
       "      <td>Heavy rain has caused surface flooding and clo...</td>\n",
       "      <td>471</td>\n",
       "    </tr>\n",
       "    <tr>\n",
       "      <th>1</th>\n",
       "      <td>Carnage at the Milford Marina, North Shore whe...</td>\n",
       "      <td>919</td>\n",
       "    </tr>\n",
       "    <tr>\n",
       "      <th>2</th>\n",
       "      <td>Damage to State Highway 25 after Friday's stor...</td>\n",
       "      <td>825</td>\n",
       "    </tr>\n",
       "    <tr>\n",
       "      <th>3</th>\n",
       "      <td>The fire service were at Arawa St in Rotorua o...</td>\n",
       "      <td>228</td>\n",
       "    </tr>\n",
       "    <tr>\n",
       "      <th>4</th>\n",
       "      <td>Footage of East Coast Road on Friday morning -...</td>\n",
       "      <td>910</td>\n",
       "    </tr>\n",
       "  </tbody>\n",
       "</table>\n",
       "</div>"
      ],
      "text/plain": [
       "                                         Description  word_count\n",
       "0  Heavy rain has caused surface flooding and clo...         471\n",
       "1  Carnage at the Milford Marina, North Shore whe...         919\n",
       "2  Damage to State Highway 25 after Friday's stor...         825\n",
       "3  The fire service were at Arawa St in Rotorua o...         228\n",
       "4  Footage of East Coast Road on Friday morning -...         910"
      ]
     },
     "execution_count": 2,
     "metadata": {},
     "output_type": "execute_result"
    }
   ],
   "source": [
    "df['word_count'] = df['Description'].apply(lambda x: len(str(x).split(\" \")))\n",
    "df[['Description','word_count']].head()"
   ]
  },
  {
   "cell_type": "code",
   "execution_count": 3,
   "metadata": {},
   "outputs": [
    {
     "data": {
      "text/plain": [
       "count      66.000000\n",
       "mean      881.803030\n",
       "std       594.811909\n",
       "min        54.000000\n",
       "25%       485.000000\n",
       "50%       712.500000\n",
       "75%      1107.250000\n",
       "max      2714.000000\n",
       "Name: word_count, dtype: float64"
      ]
     },
     "execution_count": 3,
     "metadata": {},
     "output_type": "execute_result"
    }
   ],
   "source": [
    "df.word_count.describe()"
   ]
  },
  {
   "cell_type": "code",
   "execution_count": 6,
   "metadata": {},
   "outputs": [
    {
     "data": {
      "text/plain": [
       "the     2942\n",
       "of      1670\n",
       "and     1600\n",
       "to      1570\n",
       "in      1464\n",
       "a        921\n",
       "on       760\n",
       "was      702\n",
       "at       469\n",
       "were     458\n",
       "The      430\n",
       "said     420\n",
       "for      361\n",
       "had      337\n",
       "with     334\n",
       "from     328\n",
       "be       299\n",
       "it       298\n",
       "is       294\n",
       "snow     289\n",
       "dtype: int64"
      ]
     },
     "execution_count": 6,
     "metadata": {},
     "output_type": "execute_result"
    }
   ],
   "source": [
    "freq = pd.Series(' '.join(df['Description']).split()).value_counts()[:20]\n",
    "freq"
   ]
  },
  {
   "cell_type": "code",
   "execution_count": 7,
   "metadata": {},
   "outputs": [
    {
     "data": {
      "text/plain": [
       "Whenuapi            1\n",
       "night,\"             1\n",
       "far,                1\n",
       "sessions.           1\n",
       "GORDY               1\n",
       "trigger             1\n",
       "FLOODS              1\n",
       "coughed             1\n",
       "Waikato.            1\n",
       "SQUIRES             1\n",
       "FAMILY              1\n",
       "Jess,               1\n",
       "Rochelle            1\n",
       "Australians         1\n",
       "self-evacuations    1\n",
       "Ajay                1\n",
       "inundate            1\n",
       "Lansdowne           1\n",
       "Tilly               1\n",
       "NORTH               1\n",
       "dtype: int64"
      ]
     },
     "execution_count": 7,
     "metadata": {},
     "output_type": "execute_result"
    }
   ],
   "source": [
    "freq1 = pd.Series(' '.join(df['Description']).split()).value_counts()[-20:]\n",
    "freq1"
   ]
  },
  {
   "cell_type": "code",
   "execution_count": 8,
   "metadata": {},
   "outputs": [
    {
     "data": {
      "text/html": [
       "<div>\n",
       "<style scoped>\n",
       "    .dataframe tbody tr th:only-of-type {\n",
       "        vertical-align: middle;\n",
       "    }\n",
       "\n",
       "    .dataframe tbody tr th {\n",
       "        vertical-align: top;\n",
       "    }\n",
       "\n",
       "    .dataframe thead th {\n",
       "        text-align: right;\n",
       "    }\n",
       "</style>\n",
       "<table border=\"1\" class=\"dataframe\">\n",
       "  <thead>\n",
       "    <tr style=\"text-align: right;\">\n",
       "      <th></th>\n",
       "      <th>CleanedNews</th>\n",
       "    </tr>\n",
       "  </thead>\n",
       "  <tbody>\n",
       "    <tr>\n",
       "      <th>0</th>\n",
       "      <td>heavy rain caused surface flooding closed road...</td>\n",
       "    </tr>\n",
       "    <tr>\n",
       "      <th>1</th>\n",
       "      <td>carnage milford marina north shore storm overt...</td>\n",
       "    </tr>\n",
       "    <tr>\n",
       "      <th>2</th>\n",
       "      <td>damage state highway friday storm ripped resid...</td>\n",
       "    </tr>\n",
       "    <tr>\n",
       "      <th>3</th>\n",
       "      <td>fire service arawa rotorua friday morning tree...</td>\n",
       "    </tr>\n",
       "    <tr>\n",
       "      <th>4</th>\n",
       "      <td>footage east coast road friday morning main ro...</td>\n",
       "    </tr>\n",
       "  </tbody>\n",
       "</table>\n",
       "</div>"
      ],
      "text/plain": [
       "                                         CleanedNews\n",
       "0  heavy rain caused surface flooding closed road...\n",
       "1  carnage milford marina north shore storm overt...\n",
       "2  damage state highway friday storm ripped resid...\n",
       "3  fire service arawa rotorua friday morning tree...\n",
       "4  footage east coast road friday morning main ro..."
      ]
     },
     "execution_count": 8,
     "metadata": {},
     "output_type": "execute_result"
    }
   ],
   "source": [
    "df2 = pd.read_csv('allText4.csv', usecols=['CleanedNews'])\n",
    "df2.head()"
   ]
  },
  {
   "cell_type": "code",
   "execution_count": 9,
   "metadata": {},
   "outputs": [
    {
     "data": {
      "text/html": [
       "<div>\n",
       "<style scoped>\n",
       "    .dataframe tbody tr th:only-of-type {\n",
       "        vertical-align: middle;\n",
       "    }\n",
       "\n",
       "    .dataframe tbody tr th {\n",
       "        vertical-align: top;\n",
       "    }\n",
       "\n",
       "    .dataframe thead th {\n",
       "        text-align: right;\n",
       "    }\n",
       "</style>\n",
       "<table border=\"1\" class=\"dataframe\">\n",
       "  <thead>\n",
       "    <tr style=\"text-align: right;\">\n",
       "      <th></th>\n",
       "      <th>CleanedNews</th>\n",
       "      <th>word_count</th>\n",
       "    </tr>\n",
       "  </thead>\n",
       "  <tbody>\n",
       "    <tr>\n",
       "      <th>0</th>\n",
       "      <td>heavy rain caused surface flooding closed road...</td>\n",
       "      <td>286</td>\n",
       "    </tr>\n",
       "    <tr>\n",
       "      <th>1</th>\n",
       "      <td>carnage milford marina north shore storm overt...</td>\n",
       "      <td>553</td>\n",
       "    </tr>\n",
       "    <tr>\n",
       "      <th>2</th>\n",
       "      <td>damage state highway friday storm ripped resid...</td>\n",
       "      <td>498</td>\n",
       "    </tr>\n",
       "    <tr>\n",
       "      <th>3</th>\n",
       "      <td>fire service arawa rotorua friday morning tree...</td>\n",
       "      <td>142</td>\n",
       "    </tr>\n",
       "    <tr>\n",
       "      <th>4</th>\n",
       "      <td>footage east coast road friday morning main ro...</td>\n",
       "      <td>553</td>\n",
       "    </tr>\n",
       "  </tbody>\n",
       "</table>\n",
       "</div>"
      ],
      "text/plain": [
       "                                         CleanedNews  word_count\n",
       "0  heavy rain caused surface flooding closed road...         286\n",
       "1  carnage milford marina north shore storm overt...         553\n",
       "2  damage state highway friday storm ripped resid...         498\n",
       "3  fire service arawa rotorua friday morning tree...         142\n",
       "4  footage east coast road friday morning main ro...         553"
      ]
     },
     "execution_count": 9,
     "metadata": {},
     "output_type": "execute_result"
    }
   ],
   "source": [
    "df2['word_count'] = df2['CleanedNews'].apply(lambda x: len(str(x).split(\" \")))\n",
    "df2[['CleanedNews','word_count']].head()"
   ]
  },
  {
   "cell_type": "code",
   "execution_count": 10,
   "metadata": {},
   "outputs": [
    {
     "data": {
      "text/plain": [
       "count      66.000000\n",
       "mean      527.893939\n",
       "std       351.985364\n",
       "min        36.000000\n",
       "25%       287.250000\n",
       "50%       444.000000\n",
       "75%       677.000000\n",
       "max      1606.000000\n",
       "Name: word_count, dtype: float64"
      ]
     },
     "execution_count": 10,
     "metadata": {},
     "output_type": "execute_result"
    }
   ],
   "source": [
    "df2.word_count.describe()"
   ]
  },
  {
   "cell_type": "code",
   "execution_count": 11,
   "metadata": {},
   "outputs": [
    {
     "data": {
      "text/plain": [
       "said            687\n",
       "snow            505\n",
       "road            258\n",
       "wellington      245\n",
       "people          192\n",
       "closed          191\n",
       "morning         174\n",
       "rain            168\n",
       "would           156\n",
       "christchurch    156\n",
       "north           156\n",
       "storm           144\n",
       "heavy           140\n",
       "stuff           136\n",
       "weather         133\n",
       "south           131\n",
       "fire            125\n",
       "power           122\n",
       "bay             121\n",
       "highway         119\n",
       "dtype: int64"
      ]
     },
     "execution_count": 11,
     "metadata": {},
     "output_type": "execute_result"
    }
   ],
   "source": [
    "freq2 = pd.Series(' '.join(df2['CleanedNews']).split()).value_counts()[:20]\n",
    "freq2"
   ]
  },
  {
   "cell_type": "code",
   "execution_count": null,
   "metadata": {},
   "outputs": [],
   "source": []
  }
 ],
 "metadata": {
  "kernelspec": {
   "display_name": "Python 3",
   "language": "python",
   "name": "python3"
  },
  "language_info": {
   "codemirror_mode": {
    "name": "ipython",
    "version": 3
   },
   "file_extension": ".py",
   "mimetype": "text/x-python",
   "name": "python",
   "nbconvert_exporter": "python",
   "pygments_lexer": "ipython3",
   "version": "3.7.3"
  }
 },
 "nbformat": 4,
 "nbformat_minor": 4
}
